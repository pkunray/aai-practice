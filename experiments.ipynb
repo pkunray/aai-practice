{
 "cells": [
  {
   "cell_type": "code",
   "execution_count": 1,
   "metadata": {},
   "outputs": [],
   "source": [
    "import numpy as np"
   ]
  },
  {
   "cell_type": "code",
   "execution_count": 29,
   "metadata": {},
   "outputs": [],
   "source": [
    "married = 1\n",
    "divorced = 2\n",
    "single = 3\n",
    "#features\n",
    "X = np.array([[50000, 200, married], [30000, 4, divorced], [35000, 1, married], [80000, 5, single]])\n",
    "#classes\n",
    "y = [1, 0, 1, 1]"
   ]
  },
  {
   "cell_type": "code",
   "execution_count": 14,
   "metadata": {},
   "outputs": [
    {
     "name": "stdout",
     "output_type": "stream",
     "text": [
      "[[100000000       100         0]\n",
      " [900000000        36         1]\n",
      " [625000000        81         0]\n",
      " [400000000        25         4]]\n",
      "[10000.005      30000.00061667 25000.00162    20000.000725  ]\n"
     ]
    }
   ],
   "source": [
    "new_customer = np.array([60000, 10, married])\n",
    "print((X - new_customer)**2)\n",
    "print(np.sum((X - new_customer)**2, axis=1)**0.5)"
   ]
  },
  {
   "cell_type": "code",
   "execution_count": 30,
   "metadata": {},
   "outputs": [
    {
     "data": {
      "text/plain": [
       "array([[0.4       , 1.        , 0.        ],\n",
       "       [0.        , 0.01507538, 0.5       ],\n",
       "       [0.1       , 0.        , 0.        ],\n",
       "       [1.        , 0.0201005 , 1.        ]])"
      ]
     },
     "execution_count": 30,
     "metadata": {},
     "output_type": "execute_result"
    }
   ],
   "source": [
    "#minmax scaling\n",
    "#all features are on scale between 0 and 1\n",
    "\n",
    "X_min, X_max = np.min(X, axis=0), np.max(X, axis=0)\n",
    "(X - X_min) / (X_max - X_min)"
   ]
  },
  {
   "cell_type": "code",
   "execution_count": 41,
   "metadata": {},
   "outputs": [
    {
     "name": "stdout",
     "output_type": "stream",
     "text": [
      "[1.94855716e+04 8.51718850e+01 8.29156198e-01]\n"
     ]
    },
    {
     "data": {
      "text/plain": [
       "array([48.81817276, -0.5811777 , -0.90453403])"
      ]
     },
     "execution_count": 41,
     "metadata": {},
     "output_type": "execute_result"
    }
   ],
   "source": [
    "#z score\n",
    "\n",
    "X_mean = np.mean(X, axis=0)\n",
    "X_std = np.std(X, axis=0)\n",
    "print(X_std)\n",
    "\n",
    "(X - X_mean) / X_std\n",
    "\n",
    "instance = np.array([1000000, 3, married])\n",
    "\n",
    "(instance - X_mean) / X_std\n"
   ]
  }
 ],
 "metadata": {
  "kernelspec": {
   "display_name": "ml",
   "language": "python",
   "name": "python3"
  },
  "language_info": {
   "codemirror_mode": {
    "name": "ipython",
    "version": 3
   },
   "file_extension": ".py",
   "mimetype": "text/x-python",
   "name": "python",
   "nbconvert_exporter": "python",
   "pygments_lexer": "ipython3",
   "version": "3.7.5"
  }
 },
 "nbformat": 4,
 "nbformat_minor": 2
}
